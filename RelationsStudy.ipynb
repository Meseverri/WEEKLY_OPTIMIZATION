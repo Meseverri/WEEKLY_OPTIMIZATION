{
 "cells": [
  {
   "cell_type": "code",
   "execution_count": 66,
   "id": "b4b721f3",
   "metadata": {},
   "outputs": [],
   "source": [
    "import pandas as pd\n",
    "import numpy as np\n",
    "import matplotlib.pyplot as plt\n",
    "from scipy import stats\n",
    "\n",
    "def normOfDiference(list1,list2):\n",
    "    arr1=np.array(list1)\n",
    "    arr2=np.array(list2)\n",
    "    dif=np.subtract(arr1,arr2)\n",
    "    return round(np.linalg.norm(dif),3)\n",
    "\n",
    "allBestData_df=pd.read_excel(\"BestMedianResults.xlsx\",index_col=0)\n",
    "\n",
    "\n",
    "\n",
    "\n",
    "\n",
    "data={}\n",
    "for ref in range(len(allBestData_df.columns)):   \n",
    "    fila=[]\n",
    "    list1=allBestData_df.iloc[-8:,ref].to_list()\n",
    "    rowName=allBestData_df.iloc[-8:,ref].name\n",
    "    for i in range(len(allBestData_df.columns)):\n",
    "        list2=allBestData_df.iloc[-8:,i].to_list()\n",
    "        fila.append(normOfDiference(list1,list2))\n",
    "    data[rowName]=fila\n",
    "\n",
    "relationMatrix=pd.DataFrame(data,index=allBestData_df.columns)\n",
    "mIndex=[]\n",
    "for i in relationMatrix.columns.to_list():\n",
    "    mIndex.append((int(i[:4]),int(i[5:])))\n",
    "\n",
    "# \n",
    "index = pd.MultiIndex.from_tuples(mIndex, names=[\"Year\", \"Week\"])\n",
    "\n",
    "\n",
    "RelationMatrix=pd.DataFrame(relationMatrix.values,index,columns=index)\n",
    "AllBestData=pd.DataFrame(allBestData_df.values,allBestData_df.index,columns=index)\n",
    "    \n"
   ]
  },
  {
   "cell_type": "code",
   "execution_count": 67,
   "id": "cd81714b",
   "metadata": {
    "scrolled": true
   },
   "outputs": [
    {
     "data": {
      "text/plain": [
       "MultiIndex([(2015,  1),\n",
       "            (2015, 10),\n",
       "            (2015, 11),\n",
       "            (2015, 12),\n",
       "            (2015, 13),\n",
       "            (2015, 14),\n",
       "            (2015, 15),\n",
       "            (2015, 16),\n",
       "            (2015, 17),\n",
       "            (2015, 18),\n",
       "            ...\n",
       "            (2020, 44),\n",
       "            (2020, 45),\n",
       "            (2020, 46),\n",
       "            (2020, 47),\n",
       "            (2020, 48),\n",
       "            (2020, 49),\n",
       "            (2020, 50),\n",
       "            (2020, 51),\n",
       "            (2020, 52),\n",
       "            (2020, 53)],\n",
       "           names=['Year', 'Week'], length=133)"
      ]
     },
     "execution_count": 67,
     "metadata": {},
     "output_type": "execute_result"
    }
   ],
   "source": [
    "index\n"
   ]
  },
  {
   "cell_type": "code",
   "execution_count": 68,
   "id": "8a8af281",
   "metadata": {},
   "outputs": [],
   "source": [
    "\"se pasa como input la semana y año de referencia\"\n",
    "\n",
    "\n",
    "\n",
    "def refTupleGenerator(refY,refW,Estrategy=1):\n",
    "    WperYdict={2015:53,\n",
    "          2016:52,\n",
    "          2017:52,\n",
    "          2018:52,\n",
    "          2019:52,\n",
    "          2020:53}\n",
    "    data=[]\n",
    "    if Estrategy==1:\n",
    "        refYUpper=refY-1\n",
    "        refWUpper=refW+2\n",
    "        \n",
    "        refYLower=refY-1\n",
    "        refWLower=refW-2\n",
    "        \n",
    "        if refWLower<=0:\n",
    "            refYLower-=1\n",
    "            refWLower=WperYdict[refYLower]-refWLower\n",
    "        elif refWUpper>WperYdict[refYLower]:\n",
    "            refYUpper+=1\n",
    "            refWUpper=refWUpper-WperYdict[refYLower]\n",
    "            \n",
    "        data=[(refYLower,refWLower),(refYUpper,refWUpper),(refY,refW)]\n",
    "        \n",
    "    if Estrategy==2:\n",
    "        refYUpper=refY-1\n",
    "        refWUpper=refW+2\n",
    "        \n",
    "        refYLower=refY-1\n",
    "        refWLower=refW-2\n",
    "        pass\n",
    "    #print(data)\n",
    "    return data\n",
    "    "
   ]
  },
  {
   "cell_type": "code",
   "execution_count": 69,
   "id": "bae7be27",
   "metadata": {},
   "outputs": [
    {
     "data": {
      "text/plain": [
       "2015"
      ]
     },
     "execution_count": 69,
     "metadata": {},
     "output_type": "execute_result"
    }
   ],
   "source": [
    "refTupleGenerator(2016,52,Estrategy=1)[0][0]"
   ]
  },
  {
   "cell_type": "code",
   "execution_count": 70,
   "id": "42056f88",
   "metadata": {},
   "outputs": [
    {
     "name": "stdout",
     "output_type": "stream",
     "text": [
      "[(2015, 49), (2015, 53), (2016, 51)]\n"
     ]
    },
    {
     "ename": "UnsortedIndexError",
     "evalue": "'Key length (2) was greater than MultiIndex lexsort depth (1)'",
     "output_type": "error",
     "traceback": [
      "\u001b[0;31m---------------------------------------------------------------------------\u001b[0m",
      "\u001b[0;31mUnsortedIndexError\u001b[0m                        Traceback (most recent call last)",
      "Cell \u001b[0;32mIn [70], line 3\u001b[0m\n\u001b[1;32m      1\u001b[0m REF\u001b[38;5;241m=\u001b[39mrefTupleGenerator(\u001b[38;5;241m2016\u001b[39m,\u001b[38;5;241m51\u001b[39m,Estrategy\u001b[38;5;241m=\u001b[39m\u001b[38;5;241m1\u001b[39m)\n\u001b[1;32m      2\u001b[0m \u001b[38;5;28mprint\u001b[39m(REF)\n\u001b[0;32m----> 3\u001b[0m RelationMatrix\u001b[38;5;241m.\u001b[39mloc[REF[\u001b[38;5;241m0\u001b[39m]:REF[\u001b[38;5;241m1\u001b[39m],REF[\u001b[38;5;241m2\u001b[39m]]\n",
      "File \u001b[0;32m~/.pyenv/versions/3.9.13/lib/python3.9/site-packages/pandas/core/indexing.py:1068\u001b[0m, in \u001b[0;36m_LocationIndexer.__getitem__\u001b[0;34m(self, key)\u001b[0m\n\u001b[1;32m   1066\u001b[0m     \u001b[39mif\u001b[39;00m \u001b[39mself\u001b[39m\u001b[39m.\u001b[39m_is_scalar_access(key):\n\u001b[1;32m   1067\u001b[0m         \u001b[39mreturn\u001b[39;00m \u001b[39mself\u001b[39m\u001b[39m.\u001b[39mobj\u001b[39m.\u001b[39m_get_value(\u001b[39m*\u001b[39mkey, takeable\u001b[39m=\u001b[39m\u001b[39mself\u001b[39m\u001b[39m.\u001b[39m_takeable)\n\u001b[0;32m-> 1068\u001b[0m     \u001b[39mreturn\u001b[39;00m \u001b[39mself\u001b[39;49m\u001b[39m.\u001b[39;49m_getitem_tuple(key)\n\u001b[1;32m   1069\u001b[0m \u001b[39melse\u001b[39;00m:\n\u001b[1;32m   1070\u001b[0m     \u001b[39m# we by definition only have the 0th axis\u001b[39;00m\n\u001b[1;32m   1071\u001b[0m     axis \u001b[39m=\u001b[39m \u001b[39mself\u001b[39m\u001b[39m.\u001b[39maxis \u001b[39mor\u001b[39;00m \u001b[39m0\u001b[39m\n",
      "File \u001b[0;32m~/.pyenv/versions/3.9.13/lib/python3.9/site-packages/pandas/core/indexing.py:1248\u001b[0m, in \u001b[0;36m_LocIndexer._getitem_tuple\u001b[0;34m(self, tup)\u001b[0m\n\u001b[1;32m   1246\u001b[0m \u001b[39mwith\u001b[39;00m suppress(IndexingError):\n\u001b[1;32m   1247\u001b[0m     tup \u001b[39m=\u001b[39m \u001b[39mself\u001b[39m\u001b[39m.\u001b[39m_expand_ellipsis(tup)\n\u001b[0;32m-> 1248\u001b[0m     \u001b[39mreturn\u001b[39;00m \u001b[39mself\u001b[39;49m\u001b[39m.\u001b[39;49m_getitem_lowerdim(tup)\n\u001b[1;32m   1250\u001b[0m \u001b[39m# no multi-index, so validate all of the indexers\u001b[39;00m\n\u001b[1;32m   1251\u001b[0m tup \u001b[39m=\u001b[39m \u001b[39mself\u001b[39m\u001b[39m.\u001b[39m_validate_tuple_indexer(tup)\n",
      "File \u001b[0;32m~/.pyenv/versions/3.9.13/lib/python3.9/site-packages/pandas/core/indexing.py:942\u001b[0m, in \u001b[0;36m_LocationIndexer._getitem_lowerdim\u001b[0;34m(self, tup)\u001b[0m\n\u001b[1;32m    940\u001b[0m \u001b[39m# we may have a nested tuples indexer here\u001b[39;00m\n\u001b[1;32m    941\u001b[0m \u001b[39mif\u001b[39;00m \u001b[39mself\u001b[39m\u001b[39m.\u001b[39m_is_nested_tuple_indexer(tup):\n\u001b[0;32m--> 942\u001b[0m     \u001b[39mreturn\u001b[39;00m \u001b[39mself\u001b[39;49m\u001b[39m.\u001b[39;49m_getitem_nested_tuple(tup)\n\u001b[1;32m    944\u001b[0m \u001b[39m# we maybe be using a tuple to represent multiple dimensions here\u001b[39;00m\n\u001b[1;32m    945\u001b[0m ax0 \u001b[39m=\u001b[39m \u001b[39mself\u001b[39m\u001b[39m.\u001b[39mobj\u001b[39m.\u001b[39m_get_axis(\u001b[39m0\u001b[39m)\n",
      "File \u001b[0;32m~/.pyenv/versions/3.9.13/lib/python3.9/site-packages/pandas/core/indexing.py:1048\u001b[0m, in \u001b[0;36m_LocationIndexer._getitem_nested_tuple\u001b[0;34m(self, tup)\u001b[0m\n\u001b[1;32m   1045\u001b[0m     axis \u001b[39m-\u001b[39m\u001b[39m=\u001b[39m \u001b[39m1\u001b[39m\n\u001b[1;32m   1046\u001b[0m     \u001b[39mcontinue\u001b[39;00m\n\u001b[0;32m-> 1048\u001b[0m obj \u001b[39m=\u001b[39m \u001b[39mgetattr\u001b[39;49m(obj, \u001b[39mself\u001b[39;49m\u001b[39m.\u001b[39;49mname)\u001b[39m.\u001b[39;49m_getitem_axis(key, axis\u001b[39m=\u001b[39;49maxis)\n\u001b[1;32m   1049\u001b[0m axis \u001b[39m-\u001b[39m\u001b[39m=\u001b[39m \u001b[39m1\u001b[39m\n\u001b[1;32m   1051\u001b[0m \u001b[39m# if we have a scalar, we are done\u001b[39;00m\n",
      "File \u001b[0;32m~/.pyenv/versions/3.9.13/lib/python3.9/site-packages/pandas/core/indexing.py:1291\u001b[0m, in \u001b[0;36m_LocIndexer._getitem_axis\u001b[0;34m(self, key, axis)\u001b[0m\n\u001b[1;32m   1289\u001b[0m \u001b[39mif\u001b[39;00m \u001b[39misinstance\u001b[39m(key, \u001b[39mslice\u001b[39m):\n\u001b[1;32m   1290\u001b[0m     \u001b[39mself\u001b[39m\u001b[39m.\u001b[39m_validate_key(key, axis)\n\u001b[0;32m-> 1291\u001b[0m     \u001b[39mreturn\u001b[39;00m \u001b[39mself\u001b[39;49m\u001b[39m.\u001b[39;49m_get_slice_axis(key, axis\u001b[39m=\u001b[39;49maxis)\n\u001b[1;32m   1292\u001b[0m \u001b[39melif\u001b[39;00m com\u001b[39m.\u001b[39mis_bool_indexer(key):\n\u001b[1;32m   1293\u001b[0m     \u001b[39mreturn\u001b[39;00m \u001b[39mself\u001b[39m\u001b[39m.\u001b[39m_getbool_axis(key, axis\u001b[39m=\u001b[39maxis)\n",
      "File \u001b[0;32m~/.pyenv/versions/3.9.13/lib/python3.9/site-packages/pandas/core/indexing.py:1325\u001b[0m, in \u001b[0;36m_LocIndexer._get_slice_axis\u001b[0;34m(self, slice_obj, axis)\u001b[0m\n\u001b[1;32m   1322\u001b[0m     \u001b[39mreturn\u001b[39;00m obj\u001b[39m.\u001b[39mcopy(deep\u001b[39m=\u001b[39m\u001b[39mFalse\u001b[39;00m)\n\u001b[1;32m   1324\u001b[0m labels \u001b[39m=\u001b[39m obj\u001b[39m.\u001b[39m_get_axis(axis)\n\u001b[0;32m-> 1325\u001b[0m indexer \u001b[39m=\u001b[39m labels\u001b[39m.\u001b[39;49mslice_indexer(slice_obj\u001b[39m.\u001b[39;49mstart, slice_obj\u001b[39m.\u001b[39;49mstop, slice_obj\u001b[39m.\u001b[39;49mstep)\n\u001b[1;32m   1327\u001b[0m \u001b[39mif\u001b[39;00m \u001b[39misinstance\u001b[39m(indexer, \u001b[39mslice\u001b[39m):\n\u001b[1;32m   1328\u001b[0m     \u001b[39mreturn\u001b[39;00m \u001b[39mself\u001b[39m\u001b[39m.\u001b[39mobj\u001b[39m.\u001b[39m_slice(indexer, axis\u001b[39m=\u001b[39maxis)\n",
      "File \u001b[0;32m~/.pyenv/versions/3.9.13/lib/python3.9/site-packages/pandas/core/indexes/base.py:6597\u001b[0m, in \u001b[0;36mIndex.slice_indexer\u001b[0;34m(self, start, end, step, kind)\u001b[0m\n\u001b[1;32m   6554\u001b[0m \u001b[39m\"\"\"\u001b[39;00m\n\u001b[1;32m   6555\u001b[0m \u001b[39mCompute the slice indexer for input labels and step.\u001b[39;00m\n\u001b[1;32m   6556\u001b[0m \n\u001b[0;32m   (...)\u001b[0m\n\u001b[1;32m   6593\u001b[0m \u001b[39mslice(1, 3, None)\u001b[39;00m\n\u001b[1;32m   6594\u001b[0m \u001b[39m\"\"\"\u001b[39;00m\n\u001b[1;32m   6595\u001b[0m \u001b[39mself\u001b[39m\u001b[39m.\u001b[39m_deprecated_arg(kind, \u001b[39m\"\u001b[39m\u001b[39mkind\u001b[39m\u001b[39m\"\u001b[39m, \u001b[39m\"\u001b[39m\u001b[39mslice_indexer\u001b[39m\u001b[39m\"\u001b[39m)\n\u001b[0;32m-> 6597\u001b[0m start_slice, end_slice \u001b[39m=\u001b[39m \u001b[39mself\u001b[39;49m\u001b[39m.\u001b[39;49mslice_locs(start, end, step\u001b[39m=\u001b[39;49mstep)\n\u001b[1;32m   6599\u001b[0m \u001b[39m# return a slice\u001b[39;00m\n\u001b[1;32m   6600\u001b[0m \u001b[39mif\u001b[39;00m \u001b[39mnot\u001b[39;00m is_scalar(start_slice):\n",
      "File \u001b[0;32m~/.pyenv/versions/3.9.13/lib/python3.9/site-packages/pandas/core/indexes/multi.py:2774\u001b[0m, in \u001b[0;36mMultiIndex.slice_locs\u001b[0;34m(self, start, end, step, kind)\u001b[0m\n\u001b[1;32m   2771\u001b[0m \u001b[39mself\u001b[39m\u001b[39m.\u001b[39m_deprecated_arg(kind, \u001b[39m\"\u001b[39m\u001b[39mkind\u001b[39m\u001b[39m\"\u001b[39m, \u001b[39m\"\u001b[39m\u001b[39mslice_locs\u001b[39m\u001b[39m\"\u001b[39m)\n\u001b[1;32m   2772\u001b[0m \u001b[39m# This function adds nothing to its parent implementation (the magic\u001b[39;00m\n\u001b[1;32m   2773\u001b[0m \u001b[39m# happens in get_slice_bound method), but it adds meaningful doc.\u001b[39;00m\n\u001b[0;32m-> 2774\u001b[0m \u001b[39mreturn\u001b[39;00m \u001b[39msuper\u001b[39;49m()\u001b[39m.\u001b[39;49mslice_locs(start, end, step)\n",
      "File \u001b[0;32m~/.pyenv/versions/3.9.13/lib/python3.9/site-packages/pandas/core/indexes/base.py:6805\u001b[0m, in \u001b[0;36mIndex.slice_locs\u001b[0;34m(self, start, end, step, kind)\u001b[0m\n\u001b[1;32m   6803\u001b[0m start_slice \u001b[39m=\u001b[39m \u001b[39mNone\u001b[39;00m\n\u001b[1;32m   6804\u001b[0m \u001b[39mif\u001b[39;00m start \u001b[39mis\u001b[39;00m \u001b[39mnot\u001b[39;00m \u001b[39mNone\u001b[39;00m:\n\u001b[0;32m-> 6805\u001b[0m     start_slice \u001b[39m=\u001b[39m \u001b[39mself\u001b[39;49m\u001b[39m.\u001b[39;49mget_slice_bound(start, \u001b[39m\"\u001b[39;49m\u001b[39mleft\u001b[39;49m\u001b[39m\"\u001b[39;49m)\n\u001b[1;32m   6806\u001b[0m \u001b[39mif\u001b[39;00m start_slice \u001b[39mis\u001b[39;00m \u001b[39mNone\u001b[39;00m:\n\u001b[1;32m   6807\u001b[0m     start_slice \u001b[39m=\u001b[39m \u001b[39m0\u001b[39m\n",
      "File \u001b[0;32m~/.pyenv/versions/3.9.13/lib/python3.9/site-packages/pandas/core/indexes/multi.py:2713\u001b[0m, in \u001b[0;36mMultiIndex.get_slice_bound\u001b[0;34m(self, label, side, kind)\u001b[0m\n\u001b[1;32m   2711\u001b[0m \u001b[39mif\u001b[39;00m \u001b[39mnot\u001b[39;00m \u001b[39misinstance\u001b[39m(label, \u001b[39mtuple\u001b[39m):\n\u001b[1;32m   2712\u001b[0m     label \u001b[39m=\u001b[39m (label,)\n\u001b[0;32m-> 2713\u001b[0m \u001b[39mreturn\u001b[39;00m \u001b[39mself\u001b[39;49m\u001b[39m.\u001b[39;49m_partial_tup_index(label, side\u001b[39m=\u001b[39;49mside)\n",
      "File \u001b[0;32m~/.pyenv/versions/3.9.13/lib/python3.9/site-packages/pandas/core/indexes/multi.py:2778\u001b[0m, in \u001b[0;36mMultiIndex._partial_tup_index\u001b[0;34m(self, tup, side)\u001b[0m\n\u001b[1;32m   2776\u001b[0m \u001b[39mdef\u001b[39;00m \u001b[39m_partial_tup_index\u001b[39m(\u001b[39mself\u001b[39m, tup: \u001b[39mtuple\u001b[39m, side: Literal[\u001b[39m\"\u001b[39m\u001b[39mleft\u001b[39m\u001b[39m\"\u001b[39m, \u001b[39m\"\u001b[39m\u001b[39mright\u001b[39m\u001b[39m\"\u001b[39m] \u001b[39m=\u001b[39m \u001b[39m\"\u001b[39m\u001b[39mleft\u001b[39m\u001b[39m\"\u001b[39m):\n\u001b[1;32m   2777\u001b[0m     \u001b[39mif\u001b[39;00m \u001b[39mlen\u001b[39m(tup) \u001b[39m>\u001b[39m \u001b[39mself\u001b[39m\u001b[39m.\u001b[39m_lexsort_depth:\n\u001b[0;32m-> 2778\u001b[0m         \u001b[39mraise\u001b[39;00m UnsortedIndexError(\n\u001b[1;32m   2779\u001b[0m             \u001b[39mf\u001b[39m\u001b[39m\"\u001b[39m\u001b[39mKey length (\u001b[39m\u001b[39m{\u001b[39;00m\u001b[39mlen\u001b[39m(tup)\u001b[39m}\u001b[39;00m\u001b[39m) was greater than MultiIndex lexsort depth \u001b[39m\u001b[39m\"\u001b[39m\n\u001b[1;32m   2780\u001b[0m             \u001b[39mf\u001b[39m\u001b[39m\"\u001b[39m\u001b[39m(\u001b[39m\u001b[39m{\u001b[39;00m\u001b[39mself\u001b[39m\u001b[39m.\u001b[39m_lexsort_depth\u001b[39m}\u001b[39;00m\u001b[39m)\u001b[39m\u001b[39m\"\u001b[39m\n\u001b[1;32m   2781\u001b[0m         )\n\u001b[1;32m   2783\u001b[0m     n \u001b[39m=\u001b[39m \u001b[39mlen\u001b[39m(tup)\n\u001b[1;32m   2784\u001b[0m     start, end \u001b[39m=\u001b[39m \u001b[39m0\u001b[39m, \u001b[39mlen\u001b[39m(\u001b[39mself\u001b[39m)\n",
      "\u001b[0;31mUnsortedIndexError\u001b[0m: 'Key length (2) was greater than MultiIndex lexsort depth (1)'"
     ]
    }
   ],
   "source": [
    "REF=refTupleGenerator(2016,51,Estrategy=1)\n",
    "print(REF)\n",
    "RelationMatrix.loc[REF[0]:REF[1],REF[2]]"
   ]
  },
  {
   "cell_type": "code",
   "execution_count": 22,
   "id": "1afd5912",
   "metadata": {
    "collapsed": true
   },
   "outputs": [
    {
     "data": {
      "text/plain": [
       "Year  Week\n",
       "2015  49      11.323\n",
       "      50      10.833\n",
       "      51       7.261\n",
       "      52       7.926\n",
       "      53       8.399\n",
       "Name: (2016, 51), dtype: float64"
      ]
     },
     "execution_count": 22,
     "metadata": {},
     "output_type": "execute_result"
    }
   ],
   "source": [
    "\n",
    "RelationMatrix[2016,51][(2015,49):(2015,53)]"
   ]
  },
  {
   "cell_type": "code",
   "execution_count": 36,
   "id": "9b483477",
   "metadata": {
    "collapsed": true
   },
   "outputs": [
    {
     "data": {
      "text/plain": [
       "51"
      ]
     },
     "execution_count": 36,
     "metadata": {},
     "output_type": "execute_result"
    }
   ],
   "source": [
    "ref=52\n",
    "\n",
    "RelationMatrix[2016,ref][2015].loc[ref-2:ref+2].idxmin()"
   ]
  },
  {
   "cell_type": "code",
   "execution_count": 49,
   "id": "14080ea1",
   "metadata": {},
   "outputs": [
    {
     "name": "stdout",
     "output_type": "stream",
     "text": [
      "[51, 52, 51, 51, 50]\n"
     ]
    },
    {
     "data": {
      "text/html": [
       "<div>\n",
       "<style scoped>\n",
       "    .dataframe tbody tr th:only-of-type {\n",
       "        vertical-align: middle;\n",
       "    }\n",
       "\n",
       "    .dataframe tbody tr th {\n",
       "        vertical-align: top;\n",
       "    }\n",
       "\n",
       "    .dataframe thead tr th {\n",
       "        text-align: left;\n",
       "    }\n",
       "\n",
       "    .dataframe thead tr:last-of-type th {\n",
       "        text-align: right;\n",
       "    }\n",
       "</style>\n",
       "<table border=\"1\" class=\"dataframe\">\n",
       "  <thead>\n",
       "    <tr>\n",
       "      <th></th>\n",
       "      <th>2016</th>\n",
       "      <th>2017</th>\n",
       "      <th>2018</th>\n",
       "      <th>2019</th>\n",
       "      <th>2020</th>\n",
       "    </tr>\n",
       "    <tr>\n",
       "      <th></th>\n",
       "      <th>52</th>\n",
       "      <th>52</th>\n",
       "      <th>52</th>\n",
       "      <th>52</th>\n",
       "      <th>52</th>\n",
       "    </tr>\n",
       "    <tr>\n",
       "      <th>Week</th>\n",
       "      <th></th>\n",
       "      <th></th>\n",
       "      <th></th>\n",
       "      <th></th>\n",
       "      <th></th>\n",
       "    </tr>\n",
       "  </thead>\n",
       "  <tbody>\n",
       "    <tr>\n",
       "      <th>50</th>\n",
       "      <td>12.303</td>\n",
       "      <td>12.212</td>\n",
       "      <td>11.275</td>\n",
       "      <td>15.035</td>\n",
       "      <td>11.160</td>\n",
       "    </tr>\n",
       "    <tr>\n",
       "      <th>51</th>\n",
       "      <td>8.383</td>\n",
       "      <td>9.226</td>\n",
       "      <td>6.521</td>\n",
       "      <td>10.037</td>\n",
       "      <td>12.804</td>\n",
       "    </tr>\n",
       "    <tr>\n",
       "      <th>52</th>\n",
       "      <td>12.065</td>\n",
       "      <td>3.183</td>\n",
       "      <td>10.608</td>\n",
       "      <td>15.870</td>\n",
       "      <td>11.588</td>\n",
       "    </tr>\n",
       "    <tr>\n",
       "      <th>53</th>\n",
       "      <td>10.979</td>\n",
       "      <td>NaN</td>\n",
       "      <td>NaN</td>\n",
       "      <td>NaN</td>\n",
       "      <td>NaN</td>\n",
       "    </tr>\n",
       "  </tbody>\n",
       "</table>\n",
       "</div>"
      ],
      "text/plain": [
       "        2016    2017    2018    2019    2020\n",
       "          52      52      52      52      52\n",
       "Week                                        \n",
       "50    12.303  12.212  11.275  15.035  11.160\n",
       "51     8.383   9.226   6.521  10.037  12.804\n",
       "52    12.065   3.183  10.608  15.870  11.588\n",
       "53    10.979     NaN     NaN     NaN     NaN"
      ]
     },
     "execution_count": 49,
     "metadata": {},
     "output_type": "execute_result"
    }
   ],
   "source": [
    "\"\"\"Estrategia 1 \"\"\"\n",
    "\n",
    "ref=52\n",
    "\n",
    "\n",
    "newRow=[RelationMatrix[2016,ref][2015].loc[ref-2:ref+2].idxmin(),\n",
    "           RelationMatrix[2017,ref][2016].loc[ref-2:ref+2].idxmin(),\n",
    "           RelationMatrix[2018,ref][2017].loc[ref-2:ref+2].idxmin(),\n",
    "           RelationMatrix[2019,ref][2018].loc[ref-2:ref+2].idxmin(),\n",
    "           RelationMatrix[2020,ref][2019].loc[ref-2:ref+2].idxmin()]\n",
    "print(newRow)\n",
    "pd.concat([RelationMatrix[2016,ref][2015].loc[ref-2:ref+2],\n",
    "           RelationMatrix[2017,ref][2016].loc[ref-2:ref+2],\n",
    "           RelationMatrix[2018,ref][2017].loc[ref-2:ref+2],\n",
    "           RelationMatrix[2019,ref][2018].loc[ref-2:ref+2],\n",
    "           RelationMatrix[2020,ref][2019].loc[ref-2:ref+2]],axis=1).sort_values(\"Week\")\n"
   ]
  },
  {
   "cell_type": "code",
   "execution_count": 60,
   "id": "e18f06c7",
   "metadata": {},
   "outputs": [
    {
     "name": "stdout",
     "output_type": "stream",
     "text": [
      "[(2015, 38), (2015, 42), (2016, 40)]\n",
      "Year  Week\n",
      "2015  40      14.795\n",
      "      41      15.553\n",
      "      42       4.278\n",
      "Name: (2016, 40), dtype: float64  hola\n",
      "[(2016, 38), (2016, 42), (2017, 40)]\n",
      "Year  Week\n",
      "2015  40      14.795\n",
      "      41      15.553\n",
      "      42       4.278\n",
      "Name: (2016, 40), dtype: float64  hola\n",
      "[(2017, 38), (2017, 42), (2018, 40)]\n",
      "Year  Week\n",
      "2015  40      14.795\n",
      "      41      15.553\n",
      "      42       4.278\n",
      "Name: (2016, 40), dtype: float64  hola\n",
      "[(2018, 38), (2018, 42), (2019, 40)]\n",
      "Year  Week\n",
      "2015  40      14.795\n",
      "      41      15.553\n",
      "      42       4.278\n",
      "Name: (2016, 40), dtype: float64  hola\n",
      "[(2019, 38), (2019, 42), (2020, 40)]\n",
      "Year  Week\n",
      "2015  40      14.795\n",
      "      41      15.553\n",
      "      42       4.278\n",
      "Name: (2016, 40), dtype: float64  hola\n"
     ]
    },
    {
     "data": {
      "text/plain": [
       "{'SlFactor': 3.12,\n",
       " 'TpFactor': 5.36,\n",
       " 'atrPeriod': 17.0,\n",
       " 'delta': 0.28500000000000003,\n",
       " 'option': 1.0,\n",
       " 'fastEmaPeriod': 5.0,\n",
       " 'slowEMAPeriod': 18.0,\n",
       " 'vwapZoneMultiplyer': 4.0}"
      ]
     },
     "execution_count": 60,
     "metadata": {},
     "output_type": "execute_result"
    },
    {
     "data": {
      "image/png": "[encoded data removed]",
      "text/plain": [
       "<Figure size 640x480 with 1 Axes>"
      ]
     },
     "metadata": {},
     "output_type": "display_data"
    }
   ],
   "source": [
    "def ParamEstimator(ref,relationMatrix,allMedianResults,Estrategy=1,dropFistYear=False):\n",
    "    years=[2016,2017,2018,2019,2020]\n",
    "    if dropFistYear:years=years[1:]\n",
    "    newRow=[]\n",
    "    if Estrategy==1:\n",
    "        for i in years:\n",
    "            Ref=refTupleGenerator(i,ref,Estrategy)\n",
    "            print(Ref)\n",
    "            print(relationMatrix.loc[(2015, 38):(2015, 42),(2016, 40)], \" hola\")\n",
    "            newRow.append(relationMatrix.loc[Ref[0]:Ref[1],Ref[2]].idxmin()[1])\n",
    "         \n",
    "    if Estrategy==2:   \n",
    "        newRow=[relationMatrix[2016,ref][2015].loc[ref-4:ref].idxmin(),\n",
    "        relationMatrix[2017,ref][2016].loc[ref-4:ref].idxmin(),\n",
    "        relationMatrix[2018,ref][2017].loc[ref-4:ref].idxmin(),\n",
    "        relationMatrix[2019,ref][2018].loc[ref-4:ref].idxmin(),\n",
    "        relationMatrix[2020,ref][2019].loc[ref-4:ref].idxmin()]\n",
    "        \n",
    "    #print(newRow)\n",
    "    pd.Series(newRow,years).plot(title='Week '+str(ref))\n",
    "    if not(dropFistYear):\n",
    "        W52=pd.concat([allMedianResults[years[0],newRow[0]],\n",
    "        allMedianResults[years[1],newRow[1]],\n",
    "        allMedianResults[years[2],newRow[2]],\n",
    "        allMedianResults[years[3],newRow[3]],\n",
    "        allMedianResults[years[4],newRow[4]]],axis=1).iloc[8:,:].T\n",
    "\n",
    "    else:\n",
    "        W52=pd.concat([allMedianResults[years[0],newRow[0]],\n",
    "        allMedianResults[years[1],newRow[1]],\n",
    "        allMedianResults[years[2],newRow[2]],\n",
    "        allMedianResults[years[3],newRow[3]]],axis=1).iloc[8:,:].T\n",
    "\n",
    "        \n",
    "\n",
    "    new_configuration = {\n",
    "    \"SlFactor\":W52.loc[:,\"SlFactor\"].mean(),\n",
    "    \"TpFactor\":W52.loc[:,\"TpFactor\"].mean(),\n",
    "    \"atrPeriod\":W52.loc[:,\"atrPeriod\"].median(),\n",
    "    \"delta\":-1,\n",
    "    \"option\":W52.loc[:,\"option\"].mode().iloc[0],\n",
    "    \"fastEmaPeriod\":W52.loc[:,\"fastEmaPeriod\"].median(),\n",
    "    \"slowEMAPeriod\":W52.loc[:,\"slowEMAPeriod\"].median(),\n",
    "    \"vwapZoneMultiplyer\":W52.loc[:,\"vwapZoneMultiplyer\"].median()\n",
    "    }\n",
    "\n",
    "    if new_configuration[\"option\"] == 2:\n",
    "        new_configuration[\"delta\"] = W52[W52.option==2].delta.mean()\n",
    "\n",
    "    elif new_configuration[\"option\"] == 1:\n",
    "        new_configuration[\"delta\"] = W52[W52.option==1].delta.mean()\n",
    "    else:\n",
    "        new_configuration[\"delta\"] = 0\n",
    "\n",
    "    return new_configuration\n",
    "\n",
    "ParamEstimator(40,RelationMatrix,AllBestData,Estrategy=1,dropFistYear=False)"
   ]
  },
  {
   "cell_type": "code",
   "execution_count": 83,
   "id": "2711cd67",
   "metadata": {},
   "outputs": [
    {
     "name": "stdout",
     "output_type": "stream",
     "text": [
      "[46, 46, 48, 48, 47]\n"
     ]
    },
    {
     "data": {
      "text/html": [
       "<div>\n",
       "<style scoped>\n",
       "    .dataframe tbody tr th:only-of-type {\n",
       "        vertical-align: middle;\n",
       "    }\n",
       "\n",
       "    .dataframe tbody tr th {\n",
       "        vertical-align: top;\n",
       "    }\n",
       "\n",
       "    .dataframe thead tr th {\n",
       "        text-align: left;\n",
       "    }\n",
       "\n",
       "    .dataframe thead tr:last-of-type th {\n",
       "        text-align: right;\n",
       "    }\n",
       "</style>\n",
       "<table border=\"1\" class=\"dataframe\">\n",
       "  <thead>\n",
       "    <tr>\n",
       "      <th></th>\n",
       "      <th>2016</th>\n",
       "      <th>2017</th>\n",
       "      <th>2018</th>\n",
       "      <th>2019</th>\n",
       "      <th>2020</th>\n",
       "    </tr>\n",
       "    <tr>\n",
       "      <th></th>\n",
       "      <th>50</th>\n",
       "      <th>50</th>\n",
       "      <th>50</th>\n",
       "      <th>50</th>\n",
       "      <th>50</th>\n",
       "    </tr>\n",
       "    <tr>\n",
       "      <th>Week</th>\n",
       "      <th></th>\n",
       "      <th></th>\n",
       "      <th></th>\n",
       "      <th></th>\n",
       "      <th></th>\n",
       "    </tr>\n",
       "  </thead>\n",
       "  <tbody>\n",
       "    <tr>\n",
       "      <th>46</th>\n",
       "      <td>7.941</td>\n",
       "      <td>9.492</td>\n",
       "      <td>11.513</td>\n",
       "      <td>14.665</td>\n",
       "      <td>14.047</td>\n",
       "    </tr>\n",
       "    <tr>\n",
       "      <th>47</th>\n",
       "      <td>10.431</td>\n",
       "      <td>11.997</td>\n",
       "      <td>12.372</td>\n",
       "      <td>9.650</td>\n",
       "      <td>8.150</td>\n",
       "    </tr>\n",
       "    <tr>\n",
       "      <th>48</th>\n",
       "      <td>10.997</td>\n",
       "      <td>12.315</td>\n",
       "      <td>8.718</td>\n",
       "      <td>6.080</td>\n",
       "      <td>12.284</td>\n",
       "    </tr>\n",
       "    <tr>\n",
       "      <th>49</th>\n",
       "      <td>9.212</td>\n",
       "      <td>12.688</td>\n",
       "      <td>12.328</td>\n",
       "      <td>13.251</td>\n",
       "      <td>9.524</td>\n",
       "    </tr>\n",
       "    <tr>\n",
       "      <th>50</th>\n",
       "      <td>14.635</td>\n",
       "      <td>14.240</td>\n",
       "      <td>11.723</td>\n",
       "      <td>9.640</td>\n",
       "      <td>13.847</td>\n",
       "    </tr>\n",
       "  </tbody>\n",
       "</table>\n",
       "</div>"
      ],
      "text/plain": [
       "        2016    2017    2018    2019    2020\n",
       "          50      50      50      50      50\n",
       "Week                                        \n",
       "46     7.941   9.492  11.513  14.665  14.047\n",
       "47    10.431  11.997  12.372   9.650   8.150\n",
       "48    10.997  12.315   8.718   6.080  12.284\n",
       "49     9.212  12.688  12.328  13.251   9.524\n",
       "50    14.635  14.240  11.723   9.640  13.847"
      ]
     },
     "execution_count": 83,
     "metadata": {},
     "output_type": "execute_result"
    }
   ],
   "source": [
    "\"\"\"Estrategia 2\"\"\"\n",
    "\n",
    "ref=50\n",
    "\n",
    "\n",
    "newRow=[RelationMatrix[2016,ref][2015].loc[ref-4:ref].idxmin(),\n",
    "           RelationMatrix[2017,ref][2016].loc[ref-4:ref].idxmin(),\n",
    "           RelationMatrix[2018,ref][2017].loc[ref-4:ref].idxmin(),\n",
    "           RelationMatrix[2019,ref][2018].loc[ref-4:ref].idxmin(),\n",
    "           RelationMatrix[2020,ref][2019].loc[ref-4:ref].idxmin()]\n",
    "print(newRow)\n",
    "pd.concat([RelationMatrix[2016,ref][2015].loc[ref-4:ref],\n",
    "           RelationMatrix[2017,ref][2016].loc[ref-4:ref],\n",
    "           RelationMatrix[2018,ref][2017].loc[ref-4:ref],\n",
    "           RelationMatrix[2019,ref][2018].loc[ref-4:ref],\n",
    "           RelationMatrix[2020,ref][2019].loc[ref-4:ref]],axis=1).sort_values(\"Week\")\n",
    "\n",
    "\n",
    "\n",
    "\n"
   ]
  },
  {
   "cell_type": "markdown",
   "id": "d85cf6a8",
   "metadata": {},
   "source": [
    "\"\"\"Estrategia 3\"\"\"\n",
    "\n",
    "ref=43\n",
    "ref-=1\n",
    "\n",
    "\n",
    "newRow=[RelationMatrix[2016,ref][2015].loc[ref-4:ref].idxmin(),\n",
    "           RelationMatrix[2017,ref][2016].loc[ref-4:ref].idxmin(),\n",
    "           RelationMatrix[2018,ref][2017].loc[ref-4:ref].idxmin(),\n",
    "           RelationMatrix[2019,ref][2018].loc[ref-4:ref].idxmin(),\n",
    "           RelationMatrix[2020,ref][2019].loc[ref-4:ref].idxmin()]\n",
    "print(newRow)\n",
    "pd.concat([RelationMatrix[2016,ref][2015].loc[ref-4:ref],\n",
    "           RelationMatrix[2017,ref][2016].loc[ref-4:ref],\n",
    "           RelationMatrix[2018,ref][2017].loc[ref-4:ref],\n",
    "           RelationMatrix[2019,ref][2018].loc[ref-4:ref],\n",
    "           RelationMatrix[2020,ref][2019].loc[ref-4:ref]],axis=1).sort_values(\"Week\")\n",
    "\n",
    "\n",
    "\n",
    "\n"
   ]
  },
  {
   "cell_type": "code",
   "execution_count": 7,
   "id": "2212ff08",
   "metadata": {},
   "outputs": [
    {
     "data": {
      "text/plain": [
       "{'SlFactor': 3.72,\n",
       " 'TpFactor': 5.54,\n",
       " 'atrPeriod': 19.0,\n",
       " 'delta': 0.16599999999999998,\n",
       " 'option': 2.0,\n",
       " 'fastEmaPeriod': 5.0,\n",
       " 'slowEMAPeriod': 14.0,\n",
       " 'vwapZoneMultiplyer': 3.0}"
      ]
     },
     "execution_count": 7,
     "metadata": {},
     "output_type": "execute_result"
    },
    {
     "data": {
      "image/png": "[encoded data removed]",
      "text/plain": [
       "<Figure size 432x288 with 1 Axes>"
      ]
     },
     "metadata": {
      "needs_background": "light"
     },
     "output_type": "display_data"
    }
   ],
   "source": [
    "years=[2016,2017,2018,2019,2020]\n",
    "pd.Series(newRow,years).plot(title='Week '+str(ref))\n",
    "\n",
    "W52=pd.concat([AllBestData[years[0],newRow[0]],\n",
    "    AllBestData[years[1],newRow[1]],\n",
    "    AllBestData[years[2],newRow[2]],\n",
    "    AllBestData[years[3],newRow[3]],\n",
    "    AllBestData[years[4],newRow[4]]],axis=1).iloc[8:,:].T\n",
    "\n",
    "\n",
    "\n",
    "new_configuration = {\n",
    "    \"SlFactor\":W52.loc[:,\"SlFactor\"].mean(),\n",
    "    \"TpFactor\":W52.loc[:,\"TpFactor\"].mean(),\n",
    "    \"atrPeriod\":W52.loc[:,\"atrPeriod\"].median(),\n",
    "    \"delta\":-1,\n",
    "    \"option\":W52.loc[:,\"option\"].mode().iloc[0],\n",
    "    \"fastEmaPeriod\":W52.loc[:,\"fastEmaPeriod\"].median(),\n",
    "    \"slowEMAPeriod\":W52.loc[:,\"slowEMAPeriod\"].median(),\n",
    "    \"vwapZoneMultiplyer\":W52.loc[:,\"vwapZoneMultiplyer\"].median()\n",
    "}\n",
    "\n",
    "if new_configuration[\"option\"] == 2:\n",
    "    new_configuration[\"delta\"] = W52[W52.option==2].delta.mean()\n",
    "\n",
    "elif new_configuration[\"option\"] == 1:\n",
    "    new_configuration[\"delta\"] = W52[W52.option==1].delta.mean()\n",
    "else:\n",
    "    new_configuration[\"delta\"] = 0\n",
    "    \n",
    "new_configuration\n"
   ]
  },
  {
   "cell_type": "code",
   "execution_count": null,
   "id": "a0a36ef2",
   "metadata": {},
   "outputs": [],
   "source": [
    "for i in AllBestData[2016].columns.tolist():\n",
    "    ref=i\n",
    "    if ref \n"
   ]
  },
  {
   "cell_type": "code",
   "execution_count": null,
   "id": "76d15fe0",
   "metadata": {},
   "outputs": [],
   "source": []
  }
 ],
 "metadata": {
  "celltoolbar": "Raw Cell Format",
  "kernelspec": {
   "display_name": "Python 3 (ipykernel)",
   "language": "python",
   "name": "python3"
  },
  "language_info": {
   "codemirror_mode": {
    "name": "ipython",
    "version": 3
   },
   "file_extension": ".py",
   "mimetype": "text/x-python",
   "name": "python",
   "nbconvert_exporter": "python",
   "pygments_lexer": "ipython3",
   "version": "3.9.12"
  }
 },
 "nbformat": 4,
 "nbformat_minor": 5
}
