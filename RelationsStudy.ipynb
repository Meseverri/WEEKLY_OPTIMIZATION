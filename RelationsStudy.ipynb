{
 "cells": [
  {
   "cell_type": "code",
   "execution_count": 1,
   "id": "b4b721f3",
   "metadata": {},
   "outputs": [],
   "source": [
    "import pandas as pd\n",
    "import numpy as np\n",
    "import matplotlib.pyplot as plt\n",
    "from scipy import stats\n",
    "\n",
    "def normOfDiference(list1,list2):\n",
    "    arr1=np.array(list1)\n",
    "    arr2=np.array(list2)\n",
    "    dif=np.subtract(arr1,arr2)\n",
    "    return round(np.linalg.norm(dif),3)\n",
    "\n",
    "allBestData_df=pd.read_excel(\"BestMedianResults.xlsx\",index_col=0)\n",
    "\n",
    "\n",
    "\n",
    "\n",
    "\n",
    "data={}\n",
    "for ref in range(len(allBestData_df.columns)):   \n",
    "    fila=[]\n",
    "    list1=allBestData_df.iloc[-8:,ref].to_list()\n",
    "    rowName=allBestData_df.iloc[-8:,ref].name\n",
    "    for i in range(len(allBestData_df.columns)):\n",
    "        list2=allBestData_df.iloc[-8:,i].to_list()\n",
    "        fila.append(normOfDiference(list1,list2))\n",
    "    data[rowName]=fila\n",
    "\n",
    "relationMatrix=pd.DataFrame(data,index=allBestData_df.columns)\n",
    "mIndex=[]\n",
    "for i in relationMatrix.columns.to_list():\n",
    "    mIndex.append((int(i[:4]),int(i[5:])))\n",
    "\n",
    "# \n",
    "index = pd.MultiIndex.from_tuples(mIndex, names=[\"Year\", \"Week\"])\n",
    "\n",
    "\n",
    "RelationMatrix=pd.DataFrame(relationMatrix.values,index,columns=index)\n",
    "AllBestData=pd.DataFrame(allBestData_df.values,allBestData_df.index,columns=index)\n",
    "    \n"
   ]
  },
  {
   "cell_type": "code",
   "execution_count": 2,
   "id": "cd81714b",
   "metadata": {
    "scrolled": true
   },
   "outputs": [
    {
     "data": {
      "text/plain": [
       "MultiIndex([(2015, 40),\n",
       "            (2015, 41),\n",
       "            (2015, 42),\n",
       "            (2015, 43),\n",
       "            (2015, 44),\n",
       "            (2015, 45),\n",
       "            (2015, 46),\n",
       "            (2015, 47),\n",
       "            (2015, 48),\n",
       "            (2015, 49),\n",
       "            (2015, 50),\n",
       "            (2015, 51),\n",
       "            (2015, 52),\n",
       "            (2015, 53),\n",
       "            (2016,  1),\n",
       "            (2016,  2),\n",
       "            (2016, 38),\n",
       "            (2016, 39),\n",
       "            (2016, 40),\n",
       "            (2016, 41),\n",
       "            (2016, 42),\n",
       "            (2016, 43),\n",
       "            (2016, 44),\n",
       "            (2016, 45),\n",
       "            (2016, 46),\n",
       "            (2016, 47),\n",
       "            (2016, 48),\n",
       "            (2016, 49),\n",
       "            (2016, 50),\n",
       "            (2016, 51),\n",
       "            (2016, 52),\n",
       "            (2017,  1),\n",
       "            (2017,  2),\n",
       "            (2017, 38),\n",
       "            (2017, 39),\n",
       "            (2017, 40),\n",
       "            (2017, 41),\n",
       "            (2017, 42),\n",
       "            (2017, 43),\n",
       "            (2017, 44),\n",
       "            (2017, 45),\n",
       "            (2017, 46),\n",
       "            (2017, 47),\n",
       "            (2017, 48),\n",
       "            (2017, 49),\n",
       "            (2017, 50),\n",
       "            (2017, 51),\n",
       "            (2017, 52),\n",
       "            (2018,  1),\n",
       "            (2018,  2),\n",
       "            (2018, 38),\n",
       "            (2018, 39),\n",
       "            (2018, 40),\n",
       "            (2018, 41),\n",
       "            (2018, 42),\n",
       "            (2018, 43),\n",
       "            (2018, 44),\n",
       "            (2018, 45),\n",
       "            (2018, 46),\n",
       "            (2018, 47),\n",
       "            (2018, 48),\n",
       "            (2018, 49),\n",
       "            (2018, 50),\n",
       "            (2018, 51),\n",
       "            (2018, 52),\n",
       "            (2019,  1),\n",
       "            (2019,  2),\n",
       "            (2019, 38),\n",
       "            (2019, 39),\n",
       "            (2019, 40),\n",
       "            (2019, 41),\n",
       "            (2019, 42),\n",
       "            (2019, 43),\n",
       "            (2019, 44),\n",
       "            (2019, 45),\n",
       "            (2019, 46),\n",
       "            (2019, 47),\n",
       "            (2019, 48),\n",
       "            (2019, 49),\n",
       "            (2019, 50),\n",
       "            (2019, 51),\n",
       "            (2019, 52),\n",
       "            (2020,  1),\n",
       "            (2020,  2),\n",
       "            (2020, 38),\n",
       "            (2020, 39),\n",
       "            (2020, 40),\n",
       "            (2020, 41),\n",
       "            (2020, 42),\n",
       "            (2020, 43),\n",
       "            (2020, 44),\n",
       "            (2020, 45),\n",
       "            (2020, 46),\n",
       "            (2020, 47),\n",
       "            (2020, 48),\n",
       "            (2020, 49),\n",
       "            (2020, 50),\n",
       "            (2020, 51),\n",
       "            (2020, 52),\n",
       "            (2020, 53)],\n",
       "           names=['Year', 'Week'])"
      ]
     },
     "execution_count": 2,
     "metadata": {},
     "output_type": "execute_result"
    }
   ],
   "source": [
    "index\n"
   ]
  },
  {
   "cell_type": "code",
   "execution_count": 94,
   "id": "8a8af281",
   "metadata": {},
   "outputs": [],
   "source": [
    "\"se pasa como input la semana y año de referencia\"\n",
    "\n",
    "\n",
    "\n",
    "def refTupleGenerator(refY,refW,Estrategy=1):\n",
    "    WperYdict={2015:53,\n",
    "          2016:52,\n",
    "          2017:52,\n",
    "          2018:52,\n",
    "          2019:52,\n",
    "          2020:53}\n",
    "    data=[]\n",
    "    if Estrategy==1:\n",
    "        refYUpper=refY-1\n",
    "        refWUpper=refW+2\n",
    "        \n",
    "        refYLower=refY-1\n",
    "        refWLower=refW-2\n",
    "        \n",
    "        if refWLower<=0:\n",
    "            refYLower-=1\n",
    "            refWLower=WperYdict[refYLower]-refWLower\n",
    "            \n",
    "        elif refWUpper>WperYdict[refYLower]:\n",
    "            refYUpper+=1\n",
    "            refWUpper=refWUpper-WperYdict[refYLower]\n",
    "        data=[(refYLower,refWLower),(refYUpper,refWUpper),(refY,refW)]\n",
    "        \n",
    "    if Estrategy==2:\n",
    "        refYUpper=refY-1\n",
    "        refWUpper=refW+2\n",
    "        \n",
    "        refYLower=refY-1\n",
    "        refWLower=refW-2\n",
    "        pass\n",
    "    print(data)\n",
    "    return data\n",
    "    "
   ]
  },
  {
   "cell_type": "code",
   "execution_count": 98,
   "id": "bae7be27",
   "metadata": {},
   "outputs": [
    {
     "name": "stdout",
     "output_type": "stream",
     "text": [
      "[(2015, 50), (2016, 1), (2016, 52)]\n"
     ]
    },
    {
     "data": {
      "text/plain": [
       "2015"
      ]
     },
     "execution_count": 98,
     "metadata": {},
     "output_type": "execute_result"
    }
   ],
   "source": [
    "refTupleGenerator(2016,52,Estrategy=1)[0][0]"
   ]
  },
  {
   "cell_type": "code",
   "execution_count": 72,
   "id": "42056f88",
   "metadata": {},
   "outputs": [
    {
     "name": "stdout",
     "output_type": "stream",
     "text": [
      "[(2015, 49), (2015, 53), (2016, 51)]\n"
     ]
    },
    {
     "data": {
      "text/plain": [
       "Year  Week\n",
       "2015  49      11.323\n",
       "      50      10.833\n",
       "      51       7.261\n",
       "      52       7.926\n",
       "      53       8.399\n",
       "Name: (2016, 51), dtype: float64"
      ]
     },
     "execution_count": 72,
     "metadata": {},
     "output_type": "execute_result"
    }
   ],
   "source": [
    "REF=refTupleGenerator(2016,51,Estrategy=1)\n",
    "RelationMatrix.loc[REF[0]:REF[1],REF[2]]"
   ]
  },
  {
   "cell_type": "code",
   "execution_count": 15,
   "id": "1afd5912",
   "metadata": {
    "collapsed": true
   },
   "outputs": [
    {
     "data": {
      "text/plain": [
       "Year  Week\n",
       "2015  50      12.303\n",
       "      51       8.383\n",
       "      52      12.065\n",
       "      53      10.979\n",
       "2016  1        7.826\n",
       "Name: (2016, 52), dtype: float64"
      ]
     },
     "execution_count": 15,
     "metadata": {},
     "output_type": "execute_result"
    }
   ],
   "source": [
    "\n",
    "RelationMatrix[2016,52][(2015,50):(2016,1)]"
   ]
  },
  {
   "cell_type": "code",
   "execution_count": 16,
   "id": "9b483477",
   "metadata": {
    "collapsed": true
   },
   "outputs": [
    {
     "data": {
      "text/plain": [
       "Year  Week\n",
       "2016  50      12.212\n",
       "      51       9.226\n",
       "      52       3.183\n",
       "2017  1        9.797\n",
       "      2       10.013\n",
       "               ...  \n",
       "2020  49      10.307\n",
       "      50       9.266\n",
       "      51      13.560\n",
       "      52      12.460\n",
       "      53       7.335\n",
       "Name: (2017, 52), Length: 72, dtype: float64"
      ]
     },
     "execution_count": 16,
     "metadata": {},
     "output_type": "execute_result"
    }
   ],
   "source": [
    "RelationMatrix[2017,52][(2016,50):(2017,1)]"
   ]
  },
  {
   "cell_type": "code",
   "execution_count": 119,
   "id": "14080ea1",
   "metadata": {},
   "outputs": [
    {
     "name": "stdout",
     "output_type": "stream",
     "text": [
      "[51, 52, 51, 51, 50]\n"
     ]
    }
   ],
   "source": [
    "\"\"\"Estrategia 1 \"\"\"\n",
    "\n",
    "ref=52\n",
    "\n",
    "\n",
    "newRow=[RelationMatrix[2016,ref][2015].loc[ref-2:ref+2].idxmin(),\n",
    "           RelationMatrix[2017,ref][2016].loc[ref-2:ref+2].idxmin(),\n",
    "           RelationMatrix[2018,ref][2017].loc[ref-2:ref+2].idxmin(),\n",
    "           RelationMatrix[2019,ref][2018].loc[ref-2:ref+2].idxmin(),\n",
    "           RelationMatrix[2020,ref][2019].loc[ref-2:ref+2].idxmin()]\n",
    "print(newRow)\n",
    "pd.concat([RelationMatrix[2016,ref][2015].loc[ref-2:ref+2],\n",
    "           RelationMatrix[2017,ref][2016].loc[ref-2:ref+2],\n",
    "           RelationMatrix[2018,ref][2017].loc[ref-2:ref+2],\n",
    "           RelationMatrix[2019,ref][2018].loc[ref-2:ref+2],\n",
    "           RelationMatrix[2020,ref][2019].loc[ref-2:ref+2]],axis=1).sort_values(\"Week\")\n",
    "\n",
    "\n",
    "def ParamEstimator(ref,relationMatrix,allMedianResults,Estrategy=1,dropFistYear=False):\n",
    "    years=[2016,2017,2018,2019,2020]\n",
    "    if dropFistYear:years=years[1:]\n",
    "    newRow=[]\n",
    "    if Estrategy==1:\n",
    "        \n",
    "        \n",
    "        for i in years:\n",
    "            Ref=refTupleGenerator(i,ref,Estrategy=1)\n",
    "            newRow.append(relationMatrix.loc[Ref[0]:Ref[1],Ref[2]].idxmin()[1])\n",
    "            \n",
    "        \n",
    "    if Estrategy==2:\n",
    "    \n",
    "        newRow=[relationMatrix[2016,ref][2015].loc[ref-4:ref].idxmin(),\n",
    "        relationMatrix[2017,ref][2016].loc[ref-4:ref].idxmin(),\n",
    "        relationMatrix[2018,ref][2017].loc[ref-4:ref].idxmin(),\n",
    "        relationMatrix[2019,ref][2018].loc[ref-4:ref].idxmin(),\n",
    "        relationMatrix[2020,ref][2019].loc[ref-4:ref].idxmin()]\n",
    "        \n",
    "    print(newRow)\n",
    "    pd.Series(newRow,years).plot(title='Week '+str(ref))\n",
    "    if not(dropFistYear):\n",
    "        W52=pd.concat([allMedianResults[years[0],newRow[0]],\n",
    "        allMedianResults[years[1],newRow[1]],\n",
    "        allMedianResults[years[2],newRow[2]],\n",
    "        allMedianResults[years[3],newRow[3]],\n",
    "        allMedianResults[years[4],newRow[4]]],axis=1).iloc[8:,:].T\n",
    "\n",
    "    else:\n",
    "        W52=pd.concat([allMedianResults[years[0],newRow[0]],\n",
    "        allMedianResults[years[1],newRow[1]],\n",
    "        allMedianResults[years[2],newRow[2]],\n",
    "        allMedianResults[years[3],newRow[3]]],axis=1).iloc[8:,:].T\n",
    "\n",
    "        \n",
    "\n",
    "    new_configuration = {\n",
    "    \"SlFactor\":W52.loc[:,\"SlFactor\"].mean(),\n",
    "    \"TpFactor\":W52.loc[:,\"TpFactor\"].mean(),\n",
    "    \"atrPeriod\":W52.loc[:,\"atrPeriod\"].median(),\n",
    "    \"delta\":-1,\n",
    "    \"option\":W52.loc[:,\"option\"].mode().iloc[0],\n",
    "    \"fastEmaPeriod\":W52.loc[:,\"fastEmaPeriod\"].median(),\n",
    "    \"slowEMAPeriod\":W52.loc[:,\"slowEMAPeriod\"].median(),\n",
    "    \"vwapZoneMultiplyer\":W52.loc[:,\"vwapZoneMultiplyer\"].median()\n",
    "    }\n",
    "\n",
    "    if new_configuration[\"option\"] == 2:\n",
    "        new_configuration[\"delta\"] = W52[W52.option==2].delta.mean()\n",
    "\n",
    "    elif new_configuration[\"option\"] == 1:\n",
    "        new_configuration[\"delta\"] = W52[W52.option==1].delta.mean()\n",
    "    else:\n",
    "        new_configuration[\"delta\"] = 0\n",
    "\n",
    "    return new_configuration\n",
    "\n",
    "\n",
    "\n"
   ]
  },
  {
   "cell_type": "code",
   "execution_count": 120,
   "id": "e18f06c7",
   "metadata": {},
   "outputs": [
    {
     "name": "stdout",
     "output_type": "stream",
     "text": [
      "[(2016, 38), (2016, 42), (2017, 40)]\n",
      "[(2017, 38), (2017, 42), (2018, 40)]\n",
      "[(2018, 38), (2018, 42), (2019, 40)]\n",
      "[(2019, 38), (2019, 42), (2020, 40)]\n",
      "[39, 38, 40, 42]\n"
     ]
    },
    {
     "data": {
      "text/plain": [
       "{'SlFactor': 3.575,\n",
       " 'TpFactor': 6.1,\n",
       " 'atrPeriod': 18.0,\n",
       " 'delta': 0.26,\n",
       " 'option': 1.0,\n",
       " 'fastEmaPeriod': 4.5,\n",
       " 'slowEMAPeriod': 17.5,\n",
       " 'vwapZoneMultiplyer': 3.0}"
      ]
     },
     "execution_count": 120,
     "metadata": {},
     "output_type": "execute_result"
    },
    {
     "data": {
      "image/png": "[encoded data removed]",
      "text/plain": [
       "<Figure size 432x288 with 1 Axes>"
      ]
     },
     "metadata": {
      "needs_background": "light"
     },
     "output_type": "display_data"
    }
   ],
   "source": [
    "ParamEstimator(40,RelationMatrix,AllBestData,Estrategy=1,dropFistYear=True)"
   ]
  },
  {
   "cell_type": "code",
   "execution_count": 83,
   "id": "2711cd67",
   "metadata": {},
   "outputs": [
    {
     "name": "stdout",
     "output_type": "stream",
     "text": [
      "[46, 46, 48, 48, 47]\n"
     ]
    },
    {
     "data": {
      "text/html": [
       "<div>\n",
       "<style scoped>\n",
       "    .dataframe tbody tr th:only-of-type {\n",
       "        vertical-align: middle;\n",
       "    }\n",
       "\n",
       "    .dataframe tbody tr th {\n",
       "        vertical-align: top;\n",
       "    }\n",
       "\n",
       "    .dataframe thead tr th {\n",
       "        text-align: left;\n",
       "    }\n",
       "\n",
       "    .dataframe thead tr:last-of-type th {\n",
       "        text-align: right;\n",
       "    }\n",
       "</style>\n",
       "<table border=\"1\" class=\"dataframe\">\n",
       "  <thead>\n",
       "    <tr>\n",
       "      <th></th>\n",
       "      <th>2016</th>\n",
       "      <th>2017</th>\n",
       "      <th>2018</th>\n",
       "      <th>2019</th>\n",
       "      <th>2020</th>\n",
       "    </tr>\n",
       "    <tr>\n",
       "      <th></th>\n",
       "      <th>50</th>\n",
       "      <th>50</th>\n",
       "      <th>50</th>\n",
       "      <th>50</th>\n",
       "      <th>50</th>\n",
       "    </tr>\n",
       "    <tr>\n",
       "      <th>Week</th>\n",
       "      <th></th>\n",
       "      <th></th>\n",
       "      <th></th>\n",
       "      <th></th>\n",
       "      <th></th>\n",
       "    </tr>\n",
       "  </thead>\n",
       "  <tbody>\n",
       "    <tr>\n",
       "      <th>46</th>\n",
       "      <td>7.941</td>\n",
       "      <td>9.492</td>\n",
       "      <td>11.513</td>\n",
       "      <td>14.665</td>\n",
       "      <td>14.047</td>\n",
       "    </tr>\n",
       "    <tr>\n",
       "      <th>47</th>\n",
       "      <td>10.431</td>\n",
       "      <td>11.997</td>\n",
       "      <td>12.372</td>\n",
       "      <td>9.650</td>\n",
       "      <td>8.150</td>\n",
       "    </tr>\n",
       "    <tr>\n",
       "      <th>48</th>\n",
       "      <td>10.997</td>\n",
       "      <td>12.315</td>\n",
       "      <td>8.718</td>\n",
       "      <td>6.080</td>\n",
       "      <td>12.284</td>\n",
       "    </tr>\n",
       "    <tr>\n",
       "      <th>49</th>\n",
       "      <td>9.212</td>\n",
       "      <td>12.688</td>\n",
       "      <td>12.328</td>\n",
       "      <td>13.251</td>\n",
       "      <td>9.524</td>\n",
       "    </tr>\n",
       "    <tr>\n",
       "      <th>50</th>\n",
       "      <td>14.635</td>\n",
       "      <td>14.240</td>\n",
       "      <td>11.723</td>\n",
       "      <td>9.640</td>\n",
       "      <td>13.847</td>\n",
       "    </tr>\n",
       "  </tbody>\n",
       "</table>\n",
       "</div>"
      ],
      "text/plain": [
       "        2016    2017    2018    2019    2020\n",
       "          50      50      50      50      50\n",
       "Week                                        \n",
       "46     7.941   9.492  11.513  14.665  14.047\n",
       "47    10.431  11.997  12.372   9.650   8.150\n",
       "48    10.997  12.315   8.718   6.080  12.284\n",
       "49     9.212  12.688  12.328  13.251   9.524\n",
       "50    14.635  14.240  11.723   9.640  13.847"
      ]
     },
     "execution_count": 83,
     "metadata": {},
     "output_type": "execute_result"
    }
   ],
   "source": [
    "\"\"\"Estrategia 2\"\"\"\n",
    "\n",
    "ref=50\n",
    "\n",
    "\n",
    "newRow=[RelationMatrix[2016,ref][2015].loc[ref-4:ref].idxmin(),\n",
    "           RelationMatrix[2017,ref][2016].loc[ref-4:ref].idxmin(),\n",
    "           RelationMatrix[2018,ref][2017].loc[ref-4:ref].idxmin(),\n",
    "           RelationMatrix[2019,ref][2018].loc[ref-4:ref].idxmin(),\n",
    "           RelationMatrix[2020,ref][2019].loc[ref-4:ref].idxmin()]\n",
    "print(newRow)\n",
    "pd.concat([RelationMatrix[2016,ref][2015].loc[ref-4:ref],\n",
    "           RelationMatrix[2017,ref][2016].loc[ref-4:ref],\n",
    "           RelationMatrix[2018,ref][2017].loc[ref-4:ref],\n",
    "           RelationMatrix[2019,ref][2018].loc[ref-4:ref],\n",
    "           RelationMatrix[2020,ref][2019].loc[ref-4:ref]],axis=1).sort_values(\"Week\")\n",
    "\n",
    "\n",
    "\n",
    "\n"
   ]
  },
  {
   "cell_type": "markdown",
   "id": "d85cf6a8",
   "metadata": {},
   "source": [
    "\"\"\"Estrategia 3\"\"\"\n",
    "\n",
    "ref=43\n",
    "ref-=1\n",
    "\n",
    "\n",
    "newRow=[RelationMatrix[2016,ref][2015].loc[ref-4:ref].idxmin(),\n",
    "           RelationMatrix[2017,ref][2016].loc[ref-4:ref].idxmin(),\n",
    "           RelationMatrix[2018,ref][2017].loc[ref-4:ref].idxmin(),\n",
    "           RelationMatrix[2019,ref][2018].loc[ref-4:ref].idxmin(),\n",
    "           RelationMatrix[2020,ref][2019].loc[ref-4:ref].idxmin()]\n",
    "print(newRow)\n",
    "pd.concat([RelationMatrix[2016,ref][2015].loc[ref-4:ref],\n",
    "           RelationMatrix[2017,ref][2016].loc[ref-4:ref],\n",
    "           RelationMatrix[2018,ref][2017].loc[ref-4:ref],\n",
    "           RelationMatrix[2019,ref][2018].loc[ref-4:ref],\n",
    "           RelationMatrix[2020,ref][2019].loc[ref-4:ref]],axis=1).sort_values(\"Week\")\n",
    "\n",
    "\n",
    "\n",
    "\n"
   ]
  },
  {
   "cell_type": "code",
   "execution_count": 7,
   "id": "2212ff08",
   "metadata": {},
   "outputs": [
    {
     "data": {
      "text/plain": [
       "{'SlFactor': 3.72,\n",
       " 'TpFactor': 5.54,\n",
       " 'atrPeriod': 19.0,\n",
       " 'delta': 0.16599999999999998,\n",
       " 'option': 2.0,\n",
       " 'fastEmaPeriod': 5.0,\n",
       " 'slowEMAPeriod': 14.0,\n",
       " 'vwapZoneMultiplyer': 3.0}"
      ]
     },
     "execution_count": 7,
     "metadata": {},
     "output_type": "execute_result"
    },
    {
     "data": {
      "image/png": "[encoded data removed]",
      "text/plain": [
       "<Figure size 432x288 with 1 Axes>"
      ]
     },
     "metadata": {
      "needs_background": "light"
     },
     "output_type": "display_data"
    }
   ],
   "source": [
    "years=[2016,2017,2018,2019,2020]\n",
    "pd.Series(newRow,years).plot(title='Week '+str(ref))\n",
    "\n",
    "W52=pd.concat([AllBestData[years[0],newRow[0]],\n",
    "    AllBestData[years[1],newRow[1]],\n",
    "    AllBestData[years[2],newRow[2]],\n",
    "    AllBestData[years[3],newRow[3]],\n",
    "    AllBestData[years[4],newRow[4]]],axis=1).iloc[8:,:].T\n",
    "\n",
    "\n",
    "\n",
    "new_configuration = {\n",
    "    \"SlFactor\":W52.loc[:,\"SlFactor\"].mean(),\n",
    "    \"TpFactor\":W52.loc[:,\"TpFactor\"].mean(),\n",
    "    \"atrPeriod\":W52.loc[:,\"atrPeriod\"].median(),\n",
    "    \"delta\":-1,\n",
    "    \"option\":W52.loc[:,\"option\"].mode().iloc[0],\n",
    "    \"fastEmaPeriod\":W52.loc[:,\"fastEmaPeriod\"].median(),\n",
    "    \"slowEMAPeriod\":W52.loc[:,\"slowEMAPeriod\"].median(),\n",
    "    \"vwapZoneMultiplyer\":W52.loc[:,\"vwapZoneMultiplyer\"].median()\n",
    "}\n",
    "\n",
    "if new_configuration[\"option\"] == 2:\n",
    "    new_configuration[\"delta\"] = W52[W52.option==2].delta.mean()\n",
    "\n",
    "elif new_configuration[\"option\"] == 1:\n",
    "    new_configuration[\"delta\"] = W52[W52.option==1].delta.mean()\n",
    "else:\n",
    "    new_configuration[\"delta\"] = 0\n",
    "    \n",
    "new_configuration\n"
   ]
  },
  {
   "cell_type": "code",
   "execution_count": null,
   "id": "a0a36ef2",
   "metadata": {},
   "outputs": [],
   "source": [
    "for i in AllBestData[2016].columns.tolist():\n",
    "    ref=i\n",
    "    if ref \n"
   ]
  },
  {
   "cell_type": "code",
   "execution_count": null,
   "id": "76d15fe0",
   "metadata": {},
   "outputs": [],
   "source": []
  }
 ],
 "metadata": {
  "celltoolbar": "Raw Cell Format",
  "kernelspec": {
   "display_name": "Python 3 (ipykernel)",
   "language": "python",
   "name": "python3"
  },
  "language_info": {
   "codemirror_mode": {
    "name": "ipython",
    "version": 3
   },
   "file_extension": ".py",
   "mimetype": "text/x-python",
   "name": "python",
   "nbconvert_exporter": "python",
   "pygments_lexer": "ipython3",
   "version": "3.9.12"
  }
 },
 "nbformat": 4,
 "nbformat_minor": 5
}
